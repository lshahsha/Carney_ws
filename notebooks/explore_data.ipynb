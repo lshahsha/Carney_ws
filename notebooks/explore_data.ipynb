{
 "cells": [
  {
   "cell_type": "code",
   "execution_count": 8,
   "metadata": {},
   "outputs": [],
   "source": [
    "import pandas as pd\n",
    "import numpy as np\n",
    "import matplotlib.pyplot as plt"
   ]
  },
  {
   "cell_type": "code",
   "execution_count": 9,
   "metadata": {},
   "outputs": [],
   "source": [
    "# set this to the directory where you have the data\n",
    "data_dir = \"/Users/lshahsha/Documents/GitHub/Carney_ws/data\"\n",
    "# set this to the task name you want to look at\n",
    "task_name = \"random\"\n"
   ]
  },
  {
   "cell_type": "markdown",
   "metadata": {},
   "source": [
    "# exploring the the data"
   ]
  },
  {
   "cell_type": "code",
   "execution_count": 4,
   "metadata": {},
   "outputs": [
    {
     "name": "stdout",
     "output_type": "stream",
     "text": [
      "number of subjects for random task: 315\n"
     ]
    }
   ],
   "source": [
    "\n",
    "# load the data for the task\n",
    "task_file = f\"{data_dir}/{task_name}.csv\"\n",
    "df = pd.read_csv(task_file, sep=\",\")\n",
    "# get how many subjects we have\n",
    "print(f\"number of subjects for {task_name} task: {len(df.subj_id.unique())}\")\n",
    "# get a list of subjects\n",
    "subj_list = df.subj_id.unique()\n"
   ]
  },
  {
   "cell_type": "code",
   "execution_count": 5,
   "metadata": {},
   "outputs": [
    {
     "data": {
      "image/png": "[encoded data removed]",
      "text/plain": [
       "<Figure size 640x480 with 1 Axes>"
      ]
     },
     "metadata": {},
     "output_type": "display_data"
    }
   ],
   "source": [
    "# get how many trials each subject has for this task\n",
    "n_trials = []\n",
    "for subj in subj_list:\n",
    "    df1 = df.loc[df.subj_id == subj]\n",
    "    n_trials.append(len(df1))\n",
    "\n",
    "# plot the number of trials\n",
    "_ = plt.hist(n_trials)"
   ]
  },
  {
   "cell_type": "code",
   "execution_count": 6,
   "metadata": {},
   "outputs": [
    {
     "name": "stdout",
     "output_type": "stream",
     "text": [
      "columns in the data: Index(['Unnamed: 0', 'subj_id', 'prolific_pid', 'block', 'trial_index',\n",
      "       'file_path', 'task_1', 'cue_1_start', 'cue_1_dur', 'cue_1_end',\n",
      "       'task_2', 'cue_2_start', 'cue_2_dur', 'cue_2_end', 'go_1_start',\n",
      "       'go_1_dur', 'go_1_end', 'go_2_start', 'go_2_dur', 'go_2_end',\n",
      "       'mov_1_coherence', 'mov_1_start', 'mov_1_dur', 'mov_1_end',\n",
      "       'mov_2_coherence', 'mov_2_start', 'mov_2_dur', 'mov_2_end',\n",
      "       'or_1_coherence', 'or_1_start', 'or_1_dur', 'or_1_end',\n",
      "       'or_2_coherence', 'or_2_start', 'or_2_dur', 'or_2_end', 'trial_start',\n",
      "       'trial_end', 'key_presses'],\n",
      "      dtype='object')\n"
     ]
    }
   ],
   "source": [
    "# now get the variables (recorded as columns)\n",
    "print(f\"columns in the data: {df.columns}\")"
   ]
  },
  {
   "cell_type": "code",
   "execution_count": 7,
   "metadata": {},
   "outputs": [],
   "source": [
    "# key presses column contains data for the time of key presses, what key was pressed and whether it was correct\n",
    "# this column contains a list containing a dictionary for each key press\n",
    "# keys of this dictionary are 'correct', 'key', 'time'\n",
    "# we now get those values in separate columns\n",
    "\n",
    "# first step is to get the dictionary out of the list\n",
    "# the list is stored as a string, so we need to convert it to a list first\n",
    "keyp_col = df['key_presses'].apply(lambda x: eval(x))\n",
    "\n",
    "# now we can get the values of the dictionary\n",
    "# if the list is empty, we will get None\n",
    "keyp_col = keyp_col.apply(lambda x: x[0] if len(x) > 0 else None)\n",
    "\n",
    "# now we can get the values of the dictionary\n",
    "# first we get the 'correct'! if the dictionary is None, we will set it to False\n",
    "df['correct'] = keyp_col.apply(lambda x: x['correct'] if x is not None else False)\n",
    "\n",
    "# now we get the key pressed\n",
    "# if the dictionary is None, we will set it to None\n",
    "df['key'] = keyp_col.apply(lambda x: x['key'] if x is not None else None)\n",
    "\n",
    "# now we get the time of the key press\n",
    "# if the dictionary is None, we will set it to None\n",
    "df['keyp_time'] = keyp_col.apply(lambda x: x['time'] if x is not None else None)\n",
    "# df\n"
   ]
  },
  {
   "cell_type": "code",
   "execution_count": null,
   "metadata": {},
   "outputs": [],
   "source": []
  },
  {
   "cell_type": "code",
   "execution_count": null,
   "metadata": {},
   "outputs": [],
   "source": []
  }
 ],
 "metadata": {
  "kernelspec": {
   "display_name": ".env",
   "language": "python",
   "name": "python3"
  },
  "language_info": {
   "codemirror_mode": {
    "name": "ipython",
    "version": 3
   },
   "file_extension": ".py",
   "mimetype": "text/x-python",
   "name": "python",
   "nbconvert_exporter": "python",
   "pygments_lexer": "ipython3",
   "version": "3.11.5"
  }
 },
 "nbformat": 4,
 "nbformat_minor": 2
}
